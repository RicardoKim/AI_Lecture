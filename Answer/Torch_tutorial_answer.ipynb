{
  "nbformat": 4,
  "nbformat_minor": 0,
  "metadata": {
    "colab": {
      "name": "torch_tutorial_answer.ipynb",
      "provenance": [],
      "collapsed_sections": []
    },
    "kernelspec": {
      "name": "python3",
      "display_name": "Python 3"
    },
    "language_info": {
      "name": "python"
    },
    "accelerator": "GPU"
  },
  "cells": [
    {
      "cell_type": "code",
      "metadata": {
        "id": "59Ocb2vkbnE_"
      },
      "source": [
        "import torch\n",
        "from torch.utils.data import Dataset\n",
        "from torch.utils.data import DataLoader\n",
        "import pandas as pd\n",
        "import numpy as np\n",
        "import matplotlib.pyplot as plt\n",
        "from torch import nn\n",
        "import torchvision.transforms as transforms\n",
        "import torch.nn.functional as F"
      ],
      "execution_count": 16,
      "outputs": []
    },
    {
      "cell_type": "code",
      "metadata": {
        "id": "1IGssuJBcDDe"
      },
      "source": [
        "Root_Path = \"/content/drive/MyDrive/학교/TNT/fashion_mnist\""
      ],
      "execution_count": 17,
      "outputs": []
    },
    {
      "cell_type": "code",
      "metadata": {
        "id": "uApKOU7KgUUi"
      },
      "source": [
        "transform = transforms.Compose(\n",
        "    [\n",
        "     transforms.ToTensor(),\n",
        "])"
      ],
      "execution_count": 18,
      "outputs": []
    },
    {
      "cell_type": "code",
      "metadata": {
        "id": "BF9Kcqw1hErR"
      },
      "source": [
        "LEARNING_RATE = 1e-3\n",
        "BATCH_SIZE = 64\n",
        "EPOCHS = 5"
      ],
      "execution_count": 19,
      "outputs": []
    },
    {
      "cell_type": "code",
      "metadata": {
        "id": "1B2ivY5nkk3L"
      },
      "source": [
        "class_names = ['T-shirt/top', 'Trouser', 'Pullover', 'Dress', 'Coat',\n",
        "               'Sandal', 'Shirt', 'Sneaker', 'Bag', 'Ankle boot']"
      ],
      "execution_count": 32,
      "outputs": []
    },
    {
      "cell_type": "code",
      "metadata": {
        "id": "xV4wzIeqcHAD"
      },
      "source": [
        "class MNISTDataset(Dataset):\n",
        "    def __init__(self, mode, transform):\n",
        "        self.X = pd.read_csv(Root_Path + \"/fashion-mnist_\" + mode + \".csv\").iloc[:, 1:]\n",
        "        self.y = pd.read_csv(Root_Path + \"/fashion-mnist_\" + mode + \".csv\").iloc[:, 0]\n",
        "        self.transforms = transform\n",
        "\n",
        "    def __len__(self):\n",
        "        return (len(self.X))\n",
        "    \n",
        "    def __getitem__(self, i):\n",
        "\n",
        "        data = self.X.iloc[i, :]\n",
        "        data = np.asarray(data).astype(np.float32).reshape(28, 28, 1)\n",
        "        data = self.transforms(data)\n",
        "        label = torch.from_numpy(np.asarray(self.y[i]).astype(np.long))\n",
        "        return data, label"
      ],
      "execution_count": 20,
      "outputs": []
    },
    {
      "cell_type": "code",
      "metadata": {
        "id": "Dr01QIUGca1l"
      },
      "source": [
        "train_dataset = MNISTDataset(\"train\", transform)\n",
        "test_dataset = MNISTDataset(\"test\", transform)"
      ],
      "execution_count": 21,
      "outputs": []
    },
    {
      "cell_type": "code",
      "metadata": {
        "id": "mGlHmrDZcyYQ"
      },
      "source": [
        "train_loader = DataLoader(train_dataset, batch_size = BATCH_SIZE, shuffle=True, drop_last = True)\n",
        "test_loader = DataLoader(test_dataset, batch_size = BATCH_SIZE, shuffle=True, drop_last = True)"
      ],
      "execution_count": 22,
      "outputs": []
    },
    {
      "cell_type": "code",
      "metadata": {
        "colab": {
          "base_uri": "https://localhost:8080/",
          "height": 281
        },
        "id": "4Eo0TA9Jc6Ka",
        "outputId": "25344496-68d7-4d7a-f0b9-020ec572ef16"
      },
      "source": [
        "for (x, y) in train_loader:\n",
        "    plt.figure()\n",
        "    plt.imshow(x[0].reshape(28, -1))\n",
        "    plt.title(class_names[y[0]])\n",
        "    plt.show()\n",
        "    break"
      ],
      "execution_count": 33,
      "outputs": [
        {
          "output_type": "display_data",
          "data": {
            "image/png": "[encoded data removed]",
            "text/plain": [
              "<Figure size 432x288 with 1 Axes>"
            ]
          },
          "metadata": {
            "tags": [],
            "needs_background": "light"
          }
        }
      ]
    },
    {
      "cell_type": "code",
      "metadata": {
        "id": "sP_ieu0NdFn-"
      },
      "source": [
        "class Model(nn.Module):\n",
        "    def __init__(self):\n",
        "        super(Model, self).__init__()\n",
        "\n",
        "        self.flatten = nn.Flatten()\n",
        "        self.input = nn.Linear(28*28, 512)\n",
        "        self.layer_1 = nn.Linear(512, 256)\n",
        "        self.layer_2 = nn.Linear(512, 256)\n",
        "        self.layer_1_2 = nn.Linear(256, 64)\n",
        "        self.layer_2_2 = nn.Linear(256, 32)\n",
        "        self.output = nn.Linear(96, 10)\n",
        " \n",
        "    def forward(self, x):\n",
        "        x = self.flatten(x)\n",
        "        x = F.relu(self.input(x))\n",
        "        x1 = F.relu(self.layer_1(x))\n",
        "        x2 = F.relu(self.layer_2(x))\n",
        "        x1 = F.relu(self.layer_1_2(x1))\n",
        "        x2 = F.relu(self.layer_2_2(x2))\n",
        "        concat_x = torch.cat((x1, x2), dim = -1)\n",
        "        logits = self.output(concat_x)\n",
        "        return logits"
      ],
      "execution_count": 24,
      "outputs": []
    },
    {
      "cell_type": "code",
      "metadata": {
        "colab": {
          "base_uri": "https://localhost:8080/"
        },
        "id": "-lRv_h68guOP",
        "outputId": "0c634456-d778-43b6-af4a-ad270ff08eff"
      },
      "source": [
        "device = 'cuda:0' if torch.cuda.is_available() else 'cpu'\n",
        "print('Using {} device'.format(device))"
      ],
      "execution_count": 25,
      "outputs": [
        {
          "output_type": "stream",
          "text": [
            "Using cuda:0 device\n"
          ],
          "name": "stdout"
        }
      ]
    },
    {
      "cell_type": "code",
      "metadata": {
        "colab": {
          "base_uri": "https://localhost:8080/"
        },
        "id": "-XO6D7whf2mm",
        "outputId": "fd374a99-34cf-453c-a6dc-aa2af8212ee0"
      },
      "source": [
        "model = Model().to(device)\n",
        "\n",
        "print(model)"
      ],
      "execution_count": 26,
      "outputs": [
        {
          "output_type": "stream",
          "text": [
            "Model(\n",
            "  (flatten): Flatten(start_dim=1, end_dim=-1)\n",
            "  (input): Linear(in_features=784, out_features=512, bias=True)\n",
            "  (layer_1): Linear(in_features=512, out_features=256, bias=True)\n",
            "  (layer_2): Linear(in_features=512, out_features=256, bias=True)\n",
            "  (layer_1_2): Linear(in_features=256, out_features=64, bias=True)\n",
            "  (layer_2_2): Linear(in_features=256, out_features=32, bias=True)\n",
            "  (output): Linear(in_features=96, out_features=10, bias=True)\n",
            ")\n"
          ],
          "name": "stdout"
        }
      ]
    },
    {
      "cell_type": "code",
      "metadata": {
        "id": "bxvHTC0NhG24"
      },
      "source": [
        "loss_fn = nn.CrossEntropyLoss()\n",
        "\n",
        "optimizer = torch.optim.SGD(model.parameters(), lr=LEARNING_RATE)"
      ],
      "execution_count": 27,
      "outputs": []
    },
    {
      "cell_type": "code",
      "metadata": {
        "id": "jsOMu0MMfFbO"
      },
      "source": [
        "def train_loop(dataloader, model, loss_fn, optimizer, device):\n",
        "    size = len(dataloader.dataset)\n",
        "    for batch, (X, y) in enumerate(dataloader):\n",
        "        X = X.to(device)\n",
        "        y = y.to(device)\n",
        "        pred = model(X)\n",
        "        loss = loss_fn(pred, y)\n",
        "        optimizer.zero_grad()\n",
        "        loss.backward()\n",
        "        optimizer.step()\n",
        "        if batch % 100 == 0:\n",
        "            loss, current = loss.item(), batch * len(X)\n",
        "            print(f\"loss: {loss:>7f}  [{current:>5d}/{size:>5d}]\")\n",
        "\n",
        "def test_loop(dataloader, model, loss_fn, device):\n",
        "    size = len(dataloader.dataset)\n",
        "    num_batches = len(dataloader)\n",
        "    test_loss, correct = 0, 0\n",
        "\n",
        "    with torch.no_grad():\n",
        "        for X, y in dataloader:\n",
        "            X = X.to(device)\n",
        "            y = y.to(device)\n",
        "            pred = model(X)\n",
        "            test_loss += loss_fn(pred, y).item()\n",
        "            correct += (pred.argmax(1) == y).type(torch.float).sum().item()\n",
        "\n",
        "    test_loss /= num_batches\n",
        "    correct /= size\n",
        "    print(f\"Test Error: \\n Accuracy: {(100*correct):>0.1f}%, Avg loss: {test_loss:>8f} \\n\")"
      ],
      "execution_count": 28,
      "outputs": []
    },
    {
      "cell_type": "code",
      "metadata": {
        "id": "yaGlLCipfxdf"
      },
      "source": [
        "def main():\n",
        "    for t in range(EPOCHS):\n",
        "        print(f\"Epoch {t+1}\\n-------------------------------\")\n",
        "        train_loop(train_loader, model, loss_fn, optimizer, device)\n",
        "        test_loop(test_loader, model, loss_fn, device)\n",
        "    print(\"Done!\")"
      ],
      "execution_count": 29,
      "outputs": []
    },
    {
      "cell_type": "code",
      "metadata": {
        "colab": {
          "base_uri": "https://localhost:8080/"
        },
        "id": "rqXQfeCSfzCy",
        "outputId": "359ab93a-03d9-4acb-9f6c-ef9942e6b301"
      },
      "source": [
        "if __name__ == \"__main__\":\n",
        "    main()"
      ],
      "execution_count": 30,
      "outputs": [
        {
          "output_type": "stream",
          "text": [
            "Epoch 1\n",
            "-------------------------------\n",
            "loss: 8.152701  [    0/60000]\n",
            "loss: 0.554818  [ 6400/60000]\n",
            "loss: 0.660507  [12800/60000]\n",
            "loss: 0.517812  [19200/60000]\n",
            "loss: 0.515114  [25600/60000]\n",
            "loss: 0.337878  [32000/60000]\n",
            "loss: 0.556472  [38400/60000]\n",
            "loss: 0.368683  [44800/60000]\n",
            "loss: 0.465525  [51200/60000]\n",
            "loss: 0.620165  [57600/60000]\n",
            "Test Error: \n",
            " Accuracy: 83.9%, Avg loss: 0.454344 \n",
            "\n",
            "Epoch 2\n",
            "-------------------------------\n",
            "loss: 0.455230  [    0/60000]\n",
            "loss: 0.431863  [ 6400/60000]\n",
            "loss: 0.526917  [12800/60000]\n",
            "loss: 0.464490  [19200/60000]\n",
            "loss: 0.322301  [25600/60000]\n",
            "loss: 0.368786  [32000/60000]\n",
            "loss: 0.529838  [38400/60000]\n",
            "loss: 0.480398  [44800/60000]\n",
            "loss: 0.818528  [51200/60000]\n",
            "loss: 0.465801  [57600/60000]\n",
            "Test Error: \n",
            " Accuracy: 85.4%, Avg loss: 0.408172 \n",
            "\n",
            "Epoch 3\n",
            "-------------------------------\n",
            "loss: 0.329003  [    0/60000]\n",
            "loss: 0.386851  [ 6400/60000]\n",
            "loss: 0.510994  [12800/60000]\n",
            "loss: 0.410840  [19200/60000]\n",
            "loss: 0.419711  [25600/60000]\n",
            "loss: 0.343929  [32000/60000]\n",
            "loss: 0.332499  [38400/60000]\n",
            "loss: 0.266722  [44800/60000]\n",
            "loss: 0.348967  [51200/60000]\n",
            "loss: 0.493210  [57600/60000]\n",
            "Test Error: \n",
            " Accuracy: 87.0%, Avg loss: 0.367729 \n",
            "\n",
            "Epoch 4\n",
            "-------------------------------\n",
            "loss: 0.323232  [    0/60000]\n",
            "loss: 0.259629  [ 6400/60000]\n",
            "loss: 0.201273  [12800/60000]\n",
            "loss: 0.302931  [19200/60000]\n",
            "loss: 0.324058  [25600/60000]\n",
            "loss: 0.405475  [32000/60000]\n",
            "loss: 0.246932  [38400/60000]\n",
            "loss: 0.395695  [44800/60000]\n",
            "loss: 0.354945  [51200/60000]\n",
            "loss: 0.345889  [57600/60000]\n",
            "Test Error: \n",
            " Accuracy: 87.2%, Avg loss: 0.356032 \n",
            "\n",
            "Epoch 5\n",
            "-------------------------------\n",
            "loss: 0.295221  [    0/60000]\n",
            "loss: 0.276300  [ 6400/60000]\n",
            "loss: 0.436249  [12800/60000]\n",
            "loss: 0.215036  [19200/60000]\n",
            "loss: 0.403047  [25600/60000]\n",
            "loss: 0.396115  [32000/60000]\n",
            "loss: 0.178071  [38400/60000]\n",
            "loss: 0.294123  [44800/60000]\n",
            "loss: 0.411258  [51200/60000]\n",
            "loss: 0.474081  [57600/60000]\n",
            "Test Error: \n",
            " Accuracy: 86.7%, Avg loss: 0.369725 \n",
            "\n",
            "Done!\n"
          ],
          "name": "stdout"
        }
      ]
    },
    {
      "cell_type": "code",
      "metadata": {
        "colab": {
          "base_uri": "https://localhost:8080/",
          "height": 301
        },
        "id": "q0OYpIysgziG",
        "outputId": "73184904-c317-4acb-d455-e18a43a20a1b"
      },
      "source": [
        "for (x, y) in test_loader:\n",
        "    plt.figure()\n",
        "    x = x.to(device)\n",
        "    plt.imshow(x.cpu().data.numpy()[0].reshape(28, -1))\n",
        "    print(\"Label : \", class_names[y[0]])\n",
        "    print(\"Test : \", class_names[model(x)[0].argmax().data])\n",
        "    plt.show()\n",
        "    break"
      ],
      "execution_count": 42,
      "outputs": [
        {
          "output_type": "stream",
          "text": [
            "Label :  T-shirt/top\n",
            "Test :  T-shirt/top\n"
          ],
          "name": "stdout"
        },
        {
          "output_type": "display_data",
          "data": {
            "image/png": "[encoded data removed]",
            "text/plain": [
              "<Figure size 432x288 with 1 Axes>"
            ]
          },
          "metadata": {
            "tags": [],
            "needs_background": "light"
          }
        }
      ]
    },
    {
      "cell_type": "code",
      "metadata": {
        "id": "HDQzcFsUk3L5"
      },
      "source": [
        ""
      ],
      "execution_count": null,
      "outputs": []
    }
  ]
}